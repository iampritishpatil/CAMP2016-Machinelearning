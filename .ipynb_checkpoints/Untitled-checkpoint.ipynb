{
 "cells": [
  {
   "cell_type": "code",
   "execution_count": 1,
   "metadata": {
    "collapsed": true
   },
   "outputs": [],
   "source": [
    "%matplotlib inline\n",
    "import math\n",
    "from scipy.integrate import odeint\n",
    "import numpy as np"
   ]
  },
  {
   "cell_type": "code",
   "execution_count": 2,
   "metadata": {
    "collapsed": false
   },
   "outputs": [],
   "source": [
    "global c1,c2,c3,c4,ke,ki,r,tau_e,tau_i,a,theta,P,Q\n",
    "c1=12\n",
    "c2=4\n",
    "c3=13\n",
    "c4=11\n",
    "a=1\n",
    "theta=1\n",
    "ke=1\n",
    "ki=1\n",
    "re=1\n",
    "ri=1\n",
    "r=1\n",
    "P=0\n",
    "Q=0\n",
    "\n",
    "def eqs(y,t):\n",
    "    E,I=y\n",
    "    dEdt =  -E + sigm(c1*E - c2*I + P)*(ke-re*E)\n",
    "    dIdt =  -I + sigm(c3*E - c4*I + Q)*(ki-ri*I)\n",
    "    dydt=[dEdt,dIdt]\n",
    "    return dydt"
   ]
  },
  {
   "cell_type": "code",
   "execution_count": 3,
   "metadata": {
    "collapsed": true
   },
   "outputs": [],
   "source": [
    "sigm = lambda x : 1 / (1 + math.exp(-1*a*(x-theta))) - 1 / (1 + math.exp(-1*a*(theta)))"
   ]
  },
  {
   "cell_type": "code",
   "execution_count": 4,
   "metadata": {
    "collapsed": false
   },
   "outputs": [],
   "source": [
    "y0=[0,0]\n",
    "t = np.linspace(0, 10, 1001)\n",
    "sol = odeint(eqs, y0, t)"
   ]
  },
  {
   "cell_type": "code",
   "execution_count": 5,
   "metadata": {
    "collapsed": false
   },
   "outputs": [
    {
     "data": {
      "image/png": "[encoded data removed]",
      "text/plain": [
       "<matplotlib.figure.Figure at 0x7fcc56020850>"
      ]
     },
     "metadata": {},
     "output_type": "display_data"
    }
   ],
   "source": [
    "import matplotlib.pyplot as plt\n",
    "plt.plot(t, sol[:, 0], 'b', label='E')\n",
    "plt.plot(t, sol[:, 1], 'g', label='I')\n",
    "plt.legend(loc='best')\n",
    "plt.xlabel('t')\n",
    "plt.grid()\n",
    "plt.show()"
   ]
  }
 ],
 "metadata": {
  "kernelspec": {
   "display_name": "Python 2",
   "language": "python",
   "name": "python2"
  },
  "language_info": {
   "codemirror_mode": {
    "name": "ipython",
    "version": 2
   },
   "file_extension": ".py",
   "mimetype": "text/x-python",
   "name": "python",
   "nbconvert_exporter": "python",
   "pygments_lexer": "ipython2",
   "version": "2.7.11+"
  }
 },
 "nbformat": 4,
 "nbformat_minor": 0
}
