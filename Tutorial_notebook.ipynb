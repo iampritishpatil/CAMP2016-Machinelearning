{
 "cells": [
  {
   "cell_type": "markdown",
   "metadata": {
    "slideshow": {
     "slide_type": "slide"
    }
   },
   "source": [
    "### Lets first import the important modules."
   ]
  },
  {
   "cell_type": "code",
   "execution_count": null,
   "metadata": {
    "collapsed": false,
    "slideshow": {
     "slide_type": "subslide"
    }
   },
   "outputs": [],
   "source": [
    "%matplotlib inline\n",
    "import sklearn\n",
    "import scipy.io as sio\n",
    "import matplotlib.pylab as plt\n",
    "import matplotlib as mp\n",
    "import numpy as np\n",
    "import scipy as sp\n",
    "import scipy.ndimage\n",
    "import scipy.signal\n"
   ]
  },
  {
   "cell_type": "markdown",
   "metadata": {
    "slideshow": {
     "slide_type": "subslide"
    }
   },
   "source": [
    "### And data"
   ]
  },
  {
   "cell_type": "code",
   "execution_count": null,
   "metadata": {
    "collapsed": false,
    "slideshow": {
     "slide_type": "fragment"
    }
   },
   "outputs": [],
   "source": [
    "ft=sio.loadmat(\"firingTimes.mat\")\n",
    "\n",
    "print ft.keys()\n",
    "\n",
    "allSpikes=ft['allSpikes']\n",
    "totalTime=ft['totalTime']*1.0\n",
    "neuronsWithInput=ft['neuronsWithInput']\n",
    "neuronsWithInput_array=np.zeros(160)\n",
    "neuronsWithInput_array[neuronsWithInput]=1"
   ]
  },
  {
   "cell_type": "markdown",
   "metadata": {
    "slideshow": {
     "slide_type": "slide"
    }
   },
   "source": [
    "### Lets make a basic raster plot of spikes using spike times from spike trains generated with the poisson distribution"
   ]
  },
  {
   "cell_type": "code",
   "execution_count": null,
   "metadata": {
    "collapsed": true,
    "slideshow": {
     "slide_type": "subslide"
    }
   },
   "outputs": [],
   "source": [
    "# generating poisson data\n",
    "num_neurons=10\n",
    "max_time=100\n",
    "spike_array=(np.random.random([num_neurons,max_time]) <0.1)\n",
    "neurons,time=np.where(spike_array==1)"
   ]
  },
  {
   "cell_type": "code",
   "execution_count": null,
   "metadata": {
    "collapsed": false,
    "slideshow": {
     "slide_type": "subslide"
    }
   },
   "outputs": [],
   "source": [
    "# plotting rasters in two ways\n",
    "plt.figure(figsize=(8, 8))\n",
    "plt.subplot(211)\n",
    "plt.imshow(spike_array,aspect=4,interpolation='none',cmap='Greys')\n",
    "plt.subplot(212)\n",
    "plt.vlines(time,neurons,neurons+1)\n",
    "plt.xlabel('time')\n",
    "plt.ylabel('trial')\n",
    "plt.show()"
   ]
  },
  {
   "cell_type": "markdown",
   "metadata": {
    "slideshow": {
     "slide_type": "subslide"
    }
   },
   "source": [
    "In the cell below, make the raster plots for the data in the array allSpikes (same format as spike_array above)"
   ]
  },
  {
   "cell_type": "code",
   "execution_count": null,
   "metadata": {
    "collapsed": true,
    "slideshow": {
     "slide_type": "fragment"
    }
   },
   "outputs": [],
   "source": []
  },
  {
   "cell_type": "markdown",
   "metadata": {
    "slideshow": {
     "slide_type": "slide"
    }
   },
   "source": [
    "### Lets make a histogram of average spiking rate"
   ]
  },
  {
   "cell_type": "code",
   "execution_count": null,
   "metadata": {
    "collapsed": false,
    "scrolled": false,
    "slideshow": {
     "slide_type": "subslide"
    }
   },
   "outputs": [],
   "source": [
    "spikes_per_sec = np.mean(spike_array,1)*1000\n",
    "plt.figure(figsize=[20,8])\n",
    "plt.subplot(121)\n",
    "plt.hist(spikes_per_sec,bins=10)\n",
    "plt.subplot(122)\n",
    "plt.hist(spikes_per_sec,bins=range(0,200,10))\n",
    "plt.show()"
   ]
  },
  {
   "cell_type": "markdown",
   "metadata": {
    "slideshow": {
     "slide_type": "subslide"
    }
   },
   "source": [
    "In the cell below. Make a histogram for the allSpikes data. Find a good binsize to get a nice looking plot."
   ]
  },
  {
   "cell_type": "code",
   "execution_count": null,
   "metadata": {
    "collapsed": true,
    "slideshow": {
     "slide_type": "fragment"
    }
   },
   "outputs": [],
   "source": []
  },
  {
   "cell_type": "markdown",
   "metadata": {
    "slideshow": {
     "slide_type": "slide"
    }
   },
   "source": [
    "### Let us see how the instantanoues firing rate of the neurons changes over time\n",
    "\n",
    "To do this, we will combine every 5 data point into 1 so that we get an average"
   ]
  },
  {
   "cell_type": "code",
   "execution_count": null,
   "metadata": {
    "collapsed": false,
    "scrolled": false,
    "slideshow": {
     "slide_type": "subslide"
    }
   },
   "outputs": [],
   "source": [
    "combine_points=5\n",
    "mean_rate_over_time=np.zeros([spike_array.shape[0],spike_array.shape[1]/combine_points])\n",
    "for i in range(spike_array.shape[1]/combine_points):\n",
    "    mean_rate_over_time[:,i]=np.mean(spike_array[:,combine_points*i:combine_points*(i+1)],1)*1000\n",
    "plt.imshow(mean_rate_over_time,interpolation='none',cmap='Greys')\n",
    "plt.colorbar()\n",
    "plt.show()\n"
   ]
  },
  {
   "cell_type": "markdown",
   "metadata": {
    "slideshow": {
     "slide_type": "subslide"
    }
   },
   "source": [
    "In the cell below, implement this for allSpike data and then see the effect of changing the number of points we combine"
   ]
  },
  {
   "cell_type": "code",
   "execution_count": null,
   "metadata": {
    "collapsed": true,
    "slideshow": {
     "slide_type": "fragment"
    }
   },
   "outputs": [],
   "source": []
  },
  {
   "cell_type": "markdown",
   "metadata": {
    "slideshow": {
     "slide_type": "slide"
    }
   },
   "source": [
    "### A way to get smoother data is to use filters on the spike train.\n",
    "\n",
    "Lets use the built in uniform filter to understand what is happening."
   ]
  },
  {
   "cell_type": "code",
   "execution_count": null,
   "metadata": {
    "collapsed": false,
    "slideshow": {
     "slide_type": "subslide"
    }
   },
   "outputs": [],
   "source": [
    "unif_filtered=np.zeros(spike_array.shape)\n",
    "size_of_filter=10\n",
    "for i in range(spike_array.shape[0]):\n",
    "    unif_filtered[i,:]=sp.ndimage.filters.uniform_filter1d(spike_array[i,:]*1000,size_of_filter,mode='wrap')"
   ]
  },
  {
   "cell_type": "code",
   "execution_count": null,
   "metadata": {
    "collapsed": false,
    "slideshow": {
     "slide_type": "subslide"
    }
   },
   "outputs": [],
   "source": [
    "plt.figure(figsize=(8, 8))\n",
    "i_th_neuron=3\n",
    "plt.plot(unif_filtered[i_th_neuron,:])\n",
    "plt.vlines(np.where(spike_array[i_th_neuron,:]==1)[0],0,100)\n"
   ]
  },
  {
   "cell_type": "code",
   "execution_count": null,
   "metadata": {
    "collapsed": false,
    "scrolled": true,
    "slideshow": {
     "slide_type": "subslide"
    }
   },
   "outputs": [],
   "source": [
    "plt.figure(figsize=(8, 6))\n",
    "plt.imshow(unif_filtered,aspect=3,cmap='Greys',interpolation=\"None\")\n",
    "plt.colorbar()\n",
    "plt.show()"
   ]
  },
  {
   "cell_type": "markdown",
   "metadata": {
    "slideshow": {
     "slide_type": "subslide"
    }
   },
   "source": [
    "In the cell below, use the filter for the allSpikes. The instead of \n",
    "\n",
    "sp.ndimage.filters.uniform_filter1d \n",
    "\n",
    "use\n",
    "\n",
    "sp.ndimage.filters.gaussian_filter1d . \n",
    "\n",
    "Experiment with what happens when you change filter size."
   ]
  },
  {
   "cell_type": "code",
   "execution_count": null,
   "metadata": {
    "collapsed": true,
    "slideshow": {
     "slide_type": "fragment"
    }
   },
   "outputs": [],
   "source": []
  },
  {
   "cell_type": "markdown",
   "metadata": {
    "slideshow": {
     "slide_type": "subslide"
    }
   },
   "source": [
    "### Now we will try to use a custom filter instead of the standard ones"
   ]
  },
  {
   "cell_type": "markdown",
   "metadata": {
    "slideshow": {
     "slide_type": "subslide"
    }
   },
   "source": [
    "First lets make an array which has an exponential shape. This array will be used as the filter."
   ]
  },
  {
   "cell_type": "code",
   "execution_count": null,
   "metadata": {
    "collapsed": false,
    "slideshow": {
     "slide_type": "subslide"
    }
   },
   "outputs": [],
   "source": [
    "filter_size=30\n",
    "tau=5.0\n",
    "arr=np.linspace(0,filter_size,filter_size+1)\n",
    "filter_exp=np.exp(-arr/tau)\n",
    "\n",
    "\n",
    "filter_exp=filter_exp/sum(filter_exp) #normalize the filter so that its area is 1\n",
    "plt.plot(filter_exp)\n",
    "plt.show()"
   ]
  },
  {
   "cell_type": "markdown",
   "metadata": {
    "slideshow": {
     "slide_type": "subslide"
    }
   },
   "source": [
    "Now we can apply this using the function sp.ndimage.filters.convolve1d"
   ]
  },
  {
   "cell_type": "code",
   "execution_count": null,
   "metadata": {
    "collapsed": true,
    "slideshow": {
     "slide_type": "subslide"
    }
   },
   "outputs": [],
   "source": [
    "exp_filtered=np.zeros(spike_array.shape)\n",
    "for i in range(spike_array.shape[0]):\n",
    "    exp_filtered[i,:]=sp.ndimage.filters.convolve1d(spike_array[i,:]*1000,filter_exp,mode='constant',origin=(-1*filter_size-1)/2)"
   ]
  },
  {
   "cell_type": "code",
   "execution_count": null,
   "metadata": {
    "collapsed": false,
    "slideshow": {
     "slide_type": "subslide"
    }
   },
   "outputs": [],
   "source": [
    "plt.figure(figsize=(8, 4))\n",
    "i_th_neuron=3\n",
    "plt.plot(exp_filtered[i_th_neuron,:])\n",
    "plt.vlines(np.where(spike_array[i_th_neuron,:]==1)[0],0,100)\n",
    "plt.show()"
   ]
  },
  {
   "cell_type": "code",
   "execution_count": null,
   "metadata": {
    "collapsed": false,
    "scrolled": false,
    "slideshow": {
     "slide_type": "subslide"
    }
   },
   "outputs": [],
   "source": [
    "plt.figure(figsize=(8, 4))\n",
    "plt.imshow(exp_filtered,aspect=5,cmap='Greys',interpolation=\"None\")\n",
    "plt.colorbar()\n",
    "plt.show()"
   ]
  },
  {
   "cell_type": "markdown",
   "metadata": {
    "slideshow": {
     "slide_type": "subslide"
    }
   },
   "source": [
    "In the cell below, implement this for allSpikes data. Then try to change the size of the filter and the tau of the filter.\n",
    "\n"
   ]
  },
  {
   "cell_type": "code",
   "execution_count": null,
   "metadata": {
    "collapsed": true,
    "slideshow": {
     "slide_type": "fragment"
    }
   },
   "outputs": [],
   "source": []
  },
  {
   "cell_type": "markdown",
   "metadata": {
    "slideshow": {
     "slide_type": "subslide"
    }
   },
   "source": [
    "Now, in the cell below, try to use a tringular filter (like the shape of a pyramid)"
   ]
  },
  {
   "cell_type": "code",
   "execution_count": null,
   "metadata": {
    "collapsed": true,
    "slideshow": {
     "slide_type": "fragment"
    }
   },
   "outputs": [],
   "source": []
  },
  {
   "cell_type": "markdown",
   "metadata": {
    "collapsed": true,
    "slideshow": {
     "slide_type": "slide"
    }
   },
   "source": [
    "## PSTH\n",
    "\n",
    "Lets make peristimulus histogram. To do this, just find all the times at which neurons spike. The plot a histogram of those.\n",
    "\n"
   ]
  },
  {
   "cell_type": "code",
   "execution_count": null,
   "metadata": {
    "collapsed": false,
    "scrolled": true,
    "slideshow": {
     "slide_type": "subslide"
    }
   },
   "outputs": [],
   "source": [
    "neurons,time=np.where(spike_array==1)\n",
    "plt.hist(time,bins=10)\n",
    "plt.show()"
   ]
  },
  {
   "cell_type": "markdown",
   "metadata": {
    "slideshow": {
     "slide_type": "subslide"
    }
   },
   "source": [
    "In the cell below, do the same for allSpikedata"
   ]
  },
  {
   "cell_type": "code",
   "execution_count": null,
   "metadata": {
    "collapsed": true,
    "slideshow": {
     "slide_type": "fragment"
    }
   },
   "outputs": [],
   "source": []
  },
  {
   "cell_type": "markdown",
   "metadata": {
    "slideshow": {
     "slide_type": "slide"
    }
   },
   "source": [
    "# Machine learning\n",
    "\n",
    "Now that we have done some basic analysis on spike train data, lets do some Machine learning."
   ]
  },
  {
   "cell_type": "markdown",
   "metadata": {
    "slideshow": {
     "slide_type": "subslide"
    }
   },
   "source": [
    "### We will start with K-Means clustering of data"
   ]
  },
  {
   "cell_type": "code",
   "execution_count": null,
   "metadata": {
    "collapsed": true,
    "slideshow": {
     "slide_type": "subslide"
    }
   },
   "outputs": [],
   "source": [
    "from sklearn.cluster import KMeans\n",
    "from sklearn.datasets import make_blobs\n",
    "\n",
    "n_samples = 150\n",
    "random_state = 170\n",
    "X_test, y_test = make_blobs(n_samples=n_samples, random_state=random_state)"
   ]
  },
  {
   "cell_type": "code",
   "execution_count": null,
   "metadata": {
    "collapsed": false,
    "scrolled": true,
    "slideshow": {
     "slide_type": "subslide"
    }
   },
   "outputs": [],
   "source": [
    "km=KMeans(n_clusters=2, random_state=random_state)\n",
    "y_pred = km.fit_predict(X_test)\n",
    "labels=km.labels_\n",
    "cluster_centers=km.cluster_centers_\n",
    "plt.figure(figsize=(8, 6))\n",
    "# plt.subplot(221)\n",
    "plt.scatter(X_test[:, 0], X_test[:, 1], c=y_pred,cmap='Set1')\n",
    "plt.show()"
   ]
  },
  {
   "cell_type": "code",
   "execution_count": null,
   "metadata": {
    "collapsed": false
   },
   "outputs": [],
   "source": [
    "D_average = km.inertia_\n",
    "print D_average"
   ]
  },
  {
   "cell_type": "code",
   "execution_count": null,
   "metadata": {
    "collapsed": false,
    "scrolled": true,
    "slideshow": {
     "slide_type": "subslide"
    }
   },
   "outputs": [],
   "source": [
    "def calc_dist(labels,X,cluster_centers):\n",
    "    Y=np.zeros(X.shape[0])\n",
    "    for i,j in enumerate(labels):\n",
    "        Y[i]=np.linalg.norm(X[i,:]-cluster_centers[j])\n",
    "    return Y\n",
    "dist = calc_dist(labels,X_test,cluster_centers)\n",
    "plt.figure(figsize=(8, 6))\n",
    "plt.scatter(X_test[:, 0], X_test[:, 1], c=dist,cmap='hot')\n",
    "plt.colorbar()\n",
    "plt.show()"
   ]
  },
  {
   "cell_type": "markdown",
   "metadata": {
    "slideshow": {
     "slide_type": "slide"
    }
   },
   "source": [
    "## Lets apply k means on neural data"
   ]
  },
  {
   "cell_type": "markdown",
   "metadata": {
    "slideshow": {
     "slide_type": "slide"
    }
   },
   "source": [
    "### lets load and visualize the data"
   ]
  },
  {
   "cell_type": "code",
   "execution_count": null,
   "metadata": {
    "collapsed": false,
    "slideshow": {
     "slide_type": "fragment"
    }
   },
   "outputs": [],
   "source": [
    "ft1=sio.loadmat(\"forclustering.mat\")\n",
    "new_spiketrain=ft1['new_spiketrain']"
   ]
  },
  {
   "cell_type": "code",
   "execution_count": null,
   "metadata": {
    "collapsed": false,
    "scrolled": false,
    "slideshow": {
     "slide_type": "subslide"
    }
   },
   "outputs": [],
   "source": [
    "print new_spiketrain.shape\n",
    "plt.figure(figsize=[10,10])\n",
    "plt.imshow(new_spiketrain,aspect=10,cmap='hot',interpolation=\"None\")\n",
    "plt.show()"
   ]
  },
  {
   "cell_type": "markdown",
   "metadata": {
    "slideshow": {
     "slide_type": "subslide"
    }
   },
   "source": [
    "### We need to preprocess data before we can apply machine learning on it. Lets filter it appropriately."
   ]
  },
  {
   "cell_type": "code",
   "execution_count": null,
   "metadata": {
    "collapsed": true,
    "slideshow": {
     "slide_type": "fragment"
    }
   },
   "outputs": [],
   "source": [
    "filtered_new=np.zeros(new_spiketrain.shape)\n",
    "size_of_filter=100  # set an appropriate filter size.\n",
    "for i in range(new_spiketrain.shape[0]):\n",
    "    filtered_new[i,:]=sp.ndimage.filters.gaussian_filter1d(new_spiketrain[i,:]*1000,size_of_filter,mode='constant')"
   ]
  },
  {
   "cell_type": "markdown",
   "metadata": {
    "slideshow": {
     "slide_type": "subslide"
    }
   },
   "source": [
    "### Generally maching learning can be done well on features extracted from raw data. \n",
    "\n",
    "We'll extract some features using Principal Component Analysis. (PCA)"
   ]
  },
  {
   "cell_type": "code",
   "execution_count": null,
   "metadata": {
    "collapsed": false,
    "slideshow": {
     "slide_type": "subslide"
    }
   },
   "outputs": [],
   "source": [
    "from sklearn.decomposition import PCA\n",
    "reduced_data=PCA(n_components=2).fit_transform(filtered_new - np.mean(filtered_new))\n",
    "plt.scatter(reduced_data[:,0],reduced_data[:,1],cmap='Set3')\n",
    "plt.show()"
   ]
  },
  {
   "cell_type": "markdown",
   "metadata": {
    "slideshow": {
     "slide_type": "slide"
    }
   },
   "source": [
    "### As it turns out, in this case, the principle components are essentially the mean firing rate and the variance."
   ]
  },
  {
   "cell_type": "code",
   "execution_count": null,
   "metadata": {
    "collapsed": false,
    "slideshow": {
     "slide_type": "subslide"
    }
   },
   "outputs": [],
   "source": [
    "x1=np.mean(filtered_new,axis=1)\n",
    "x2=np.std(filtered_new,axis=1)\n",
    "X=np.array([x1,x2]).T\n",
    "plt.scatter(X[:, 0], X[:, 1],c=range(X.shape[0]),cmap='jet')\n",
    "plt.show()\n"
   ]
  },
  {
   "cell_type": "code",
   "execution_count": null,
   "metadata": {
    "collapsed": false,
    "scrolled": true,
    "slideshow": {
     "slide_type": "subslide"
    }
   },
   "outputs": [],
   "source": [
    "km=KMeans(n_clusters=5, random_state=random_state) # play with cluster size\n",
    "y_pred = km.fit_predict(X)\n",
    "labels=km.labels_\n",
    "cluster_centers=km.cluster_centers_\n",
    "plt.scatter(X[:, 0], X[:, 1], c=y_pred,cmap='jet')\n",
    "plt.show()\n",
    "D_original = km.inertia_\n",
    "print D_original\n"
   ]
  },
  {
   "cell_type": "markdown",
   "metadata": {
    "slideshow": {
     "slide_type": "slide"
    }
   },
   "source": [
    "## Permutation test!"
   ]
  },
  {
   "cell_type": "code",
   "execution_count": null,
   "metadata": {
    "collapsed": false,
    "slideshow": {
     "slide_type": "subslide"
    }
   },
   "outputs": [],
   "source": [
    "x1=np.mean(filtered_new,axis=1)\n",
    "x2=np.std(filtered_new,axis=1)\n",
    "n_repeat=100\n",
    "D_permute=np.zeros(n_repeat)\n",
    "D_non_permute=np.zeros(n_repeat)\n",
    "for i in range(n_repeat):\n",
    "    permutation= np.random.permutation(range(x1.shape[0]))\n",
    "    X_permuted=np.array([x1[permutation],x2]).T\n",
    "    X_non_permuted=np.array([x1,x2]).T\n",
    "        \n",
    "    km=KMeans(n_clusters=5, random_state=random_state)\n",
    "    y_pred = km.fit_predict(X_permuted)\n",
    "    D_permute[i]=km.inertia_\n",
    "    \n",
    "    km=KMeans(n_clusters=5, random_state=random_state)\n",
    "    y_pred = km.fit_predict(X_non_permuted)\n",
    "    D_non_permute[i]=km.inertia_\n",
    "plt.hist(D_permute)\n",
    "plt.hist(D_non_permute)\n",
    "plt.show()"
   ]
  },
  {
   "cell_type": "markdown",
   "metadata": {
    "slideshow": {
     "slide_type": "subslide"
    }
   },
   "source": [
    "## Bonus question. Try to cluster the allSpike data using Kmeans\n",
    "\n",
    "In the box below"
   ]
  },
  {
   "cell_type": "code",
   "execution_count": null,
   "metadata": {
    "collapsed": true,
    "slideshow": {
     "slide_type": "fragment"
    }
   },
   "outputs": [],
   "source": []
  },
  {
   "cell_type": "markdown",
   "metadata": {
    "slideshow": {
     "slide_type": "slide"
    }
   },
   "source": [
    "# Supervised Learning : Generalized Linear Models (GLM)"
   ]
  },
  {
   "cell_type": "markdown",
   "metadata": {
    "slideshow": {
     "slide_type": "subslide"
    }
   },
   "source": [
    "Lets generate some silly data."
   ]
  },
  {
   "cell_type": "code",
   "execution_count": null,
   "metadata": {
    "collapsed": false,
    "scrolled": true,
    "slideshow": {
     "slide_type": "subslide"
    }
   },
   "outputs": [],
   "source": [
    "X_lin=np.random.random([10,100])\n",
    "c=np.random.random(10)\n",
    "Y_lin=c.dot(X_lin)+np.random.random(100)"
   ]
  },
  {
   "cell_type": "code",
   "execution_count": null,
   "metadata": {
    "collapsed": false,
    "scrolled": true,
    "slideshow": {
     "slide_type": "subslide"
    }
   },
   "outputs": [],
   "source": [
    "from sklearn import linear_model\n",
    "clf = linear_model.LinearRegression()\n",
    "clf.fit(X_lin.T,Y_lin)\n",
    "y2=clf.predict(X_lin.T)\n",
    "plt.scatter(Y_lin,y2)\n",
    "plt.xlim([0,10])\n",
    "plt.ylim([0,10])\n",
    "plt.plot(np.arange(10),np.arange(10),\"r\")\n",
    "plt.show()"
   ]
  },
  {
   "cell_type": "markdown",
   "metadata": {
    "slideshow": {
     "slide_type": "slide"
    }
   },
   "source": [
    "## Now let us apply this on some neural data."
   ]
  },
  {
   "cell_type": "code",
   "execution_count": null,
   "metadata": {
    "collapsed": false,
    "slideshow": {
     "slide_type": "subslide"
    }
   },
   "outputs": [],
   "source": [
    "filtered_new1=np.zeros(allSpikes.shape)\n",
    "size_of_filter=100\n",
    "for i in range(allSpikes.shape[0]):\n",
    "    filtered_new1[i,:]=sp.ndimage.filters.gaussian_filter1d(allSpikes[i,:]*1000,size_of_filter,mode='constant')"
   ]
  },
  {
   "cell_type": "code",
   "execution_count": null,
   "metadata": {
    "collapsed": false,
    "slideshow": {
     "slide_type": "subslide"
    }
   },
   "outputs": [],
   "source": [
    "new_allsp=filtered_new1[:,:6000]\n",
    "newtarget=np.zeros(6000)\n",
    "newtarget[500:3500]=1\n",
    "from sklearn import linear_model\n",
    "clf = linear_model.LogisticRegression()\n",
    "clf.fit (new_allsp.T,newtarget)\n",
    "arr=np.abs(clf.coef_.argsort())[0,:]\n",
    "print np.intersect1d(arr[-50:], neuronsWithInput).shape\n",
    "plt.plot(clf.predict(new_allsp.T),\"r.\")\n",
    "plt.plot(newtarget,\"b,\")\n",
    "plt.ylim([-1,1.5])\n",
    "plt.show()\n",
    "\n"
   ]
  },
  {
   "cell_type": "code",
   "execution_count": null,
   "metadata": {
    "collapsed": false,
    "slideshow": {
     "slide_type": "subslide"
    }
   },
   "outputs": [],
   "source": [
    "new_allsp=new_spiketrain\n",
    "newtarget=np.zeros(new_spiketrain.shape[1])\n",
    "newtarget[0:5000]=1\n",
    "from sklearn import linear_model\n",
    "clf = linear_model.LogisticRegression()\n",
    "clf.fit (new_allsp.T,newtarget)\n",
    "arr=np.abs(clf.coef_.argsort())[0,:]\n",
    "print clf.coef_[0,arr[-100:]]\n",
    "print labels[arr[-100:]]\n",
    "plt.plot(clf.predict(new_allsp.T),\"r.\")\n",
    "plt.plot(newtarget,\"b,\")\n",
    "plt.ylim([-1,1.5])\n",
    "plt.show()"
   ]
  },
  {
   "cell_type": "code",
   "execution_count": null,
   "metadata": {
    "collapsed": false,
    "slideshow": {
     "slide_type": "subslide"
    }
   },
   "outputs": [],
   "source": [
    "print X.shape\n",
    "print arr[-100:]\n",
    "plt.scatter(X[arr[-100:],0],X[arr[-100:],1])\n",
    "plt.show()"
   ]
  }
 ],
 "metadata": {
  "celltoolbar": "Slideshow",
  "kernelspec": {
   "display_name": "Python 2",
   "language": "python",
   "name": "python2"
  },
  "language_info": {
   "codemirror_mode": {
    "name": "ipython",
    "version": 2
   },
   "file_extension": ".py",
   "mimetype": "text/x-python",
   "name": "python",
   "nbconvert_exporter": "python",
   "pygments_lexer": "ipython2",
   "version": "2.7.11+"
  }
 },
 "nbformat": 4,
 "nbformat_minor": 0
}
